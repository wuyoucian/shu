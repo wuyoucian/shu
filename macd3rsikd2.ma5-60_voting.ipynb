{
 "cells": [
  {
   "cell_type": "code",
   "execution_count": 1,
   "metadata": {},
   "outputs": [],
   "source": [
    "import pandas as pd\n",
    "\n",
    "from sklearn.linear_model import LogisticRegression\n",
    "from sklearn.svm import SVC\n",
    "from sklearn.ensemble import RandomForestClassifier\n",
    "from sklearn.ensemble import AdaBoostClassifier\n",
    "from sklearn.ensemble import GradientBoostingClassifier\n",
    "from sklearn.ensemble import VotingClassifier"
   ]
  },
  {
   "cell_type": "code",
   "execution_count": 2,
   "metadata": {},
   "outputs": [],
   "source": [
    "data = pd.read_excel(\"strategy_results_train.xlsx\")"
   ]
  },
  {
   "cell_type": "code",
   "execution_count": 3,
   "metadata": {},
   "outputs": [
    {
     "data": {
      "text/html": [
       "<div>\n",
       "<style scoped>\n",
       "    .dataframe tbody tr th:only-of-type {\n",
       "        vertical-align: middle;\n",
       "    }\n",
       "\n",
       "    .dataframe tbody tr th {\n",
       "        vertical-align: top;\n",
       "    }\n",
       "\n",
       "    .dataframe thead th {\n",
       "        text-align: right;\n",
       "    }\n",
       "</style>\n",
       "<table border=\"1\" class=\"dataframe\">\n",
       "  <thead>\n",
       "    <tr style=\"text-align: right;\">\n",
       "      <th></th>\n",
       "      <th>id</th>\n",
       "      <th>label</th>\n",
       "      <th>5ma</th>\n",
       "      <th>10ma</th>\n",
       "      <th>20ma</th>\n",
       "      <th>60ma</th>\n",
       "      <th>120ma</th>\n",
       "      <th>240ma</th>\n",
       "    </tr>\n",
       "  </thead>\n",
       "  <tbody>\n",
       "    <tr>\n",
       "      <th>0</th>\n",
       "      <td>SHSE.600085_201501</td>\n",
       "      <td>0</td>\n",
       "      <td>21.291999</td>\n",
       "      <td>21.369</td>\n",
       "      <td>21.6650</td>\n",
       "      <td>21.291999</td>\n",
       "      <td>21.369</td>\n",
       "      <td>21.6650</td>\n",
       "    </tr>\n",
       "    <tr>\n",
       "      <th>1</th>\n",
       "      <td>SHSE.600085_201502</td>\n",
       "      <td>1</td>\n",
       "      <td>23.320000</td>\n",
       "      <td>23.386</td>\n",
       "      <td>23.5860</td>\n",
       "      <td>23.320000</td>\n",
       "      <td>23.386</td>\n",
       "      <td>23.5860</td>\n",
       "    </tr>\n",
       "    <tr>\n",
       "      <th>2</th>\n",
       "      <td>SHSE.600085_201503</td>\n",
       "      <td>1</td>\n",
       "      <td>22.442000</td>\n",
       "      <td>22.106</td>\n",
       "      <td>22.4540</td>\n",
       "      <td>22.442000</td>\n",
       "      <td>22.106</td>\n",
       "      <td>22.4540</td>\n",
       "    </tr>\n",
       "    <tr>\n",
       "      <th>3</th>\n",
       "      <td>SHSE.600085_201504</td>\n",
       "      <td>1</td>\n",
       "      <td>26.378000</td>\n",
       "      <td>25.148</td>\n",
       "      <td>24.0025</td>\n",
       "      <td>26.378000</td>\n",
       "      <td>25.148</td>\n",
       "      <td>24.0025</td>\n",
       "    </tr>\n",
       "    <tr>\n",
       "      <th>4</th>\n",
       "      <td>SHSE.600085_201505</td>\n",
       "      <td>1</td>\n",
       "      <td>32.888000</td>\n",
       "      <td>32.902</td>\n",
       "      <td>31.2410</td>\n",
       "      <td>32.888000</td>\n",
       "      <td>32.902</td>\n",
       "      <td>31.2410</td>\n",
       "    </tr>\n",
       "  </tbody>\n",
       "</table>\n",
       "</div>"
      ],
      "text/plain": [
       "                   id  label        5ma    10ma     20ma       60ma   120ma  \\\n",
       "0  SHSE.600085_201501      0  21.291999  21.369  21.6650  21.291999  21.369   \n",
       "1  SHSE.600085_201502      1  23.320000  23.386  23.5860  23.320000  23.386   \n",
       "2  SHSE.600085_201503      1  22.442000  22.106  22.4540  22.442000  22.106   \n",
       "3  SHSE.600085_201504      1  26.378000  25.148  24.0025  26.378000  25.148   \n",
       "4  SHSE.600085_201505      1  32.888000  32.902  31.2410  32.888000  32.902   \n",
       "\n",
       "     240ma  \n",
       "0  21.6650  \n",
       "1  23.5860  \n",
       "2  22.4540  \n",
       "3  24.0025  \n",
       "4  31.2410  "
      ]
     },
     "execution_count": 3,
     "metadata": {},
     "output_type": "execute_result"
    }
   ],
   "source": [
    "data.head()"
   ]
  },
  {
   "cell_type": "code",
   "execution_count": 4,
   "metadata": {},
   "outputs": [],
   "source": [
    "data2 = pd.concat( [data.iloc[:, 1], data.iloc[:, 2:]], axis=1)"
   ]
  },
  {
   "cell_type": "code",
   "execution_count": 5,
   "metadata": {},
   "outputs": [
    {
     "data": {
      "text/html": [
       "<div>\n",
       "<style scoped>\n",
       "    .dataframe tbody tr th:only-of-type {\n",
       "        vertical-align: middle;\n",
       "    }\n",
       "\n",
       "    .dataframe tbody tr th {\n",
       "        vertical-align: top;\n",
       "    }\n",
       "\n",
       "    .dataframe thead th {\n",
       "        text-align: right;\n",
       "    }\n",
       "</style>\n",
       "<table border=\"1\" class=\"dataframe\">\n",
       "  <thead>\n",
       "    <tr style=\"text-align: right;\">\n",
       "      <th></th>\n",
       "      <th>label</th>\n",
       "      <th>5ma</th>\n",
       "      <th>10ma</th>\n",
       "      <th>20ma</th>\n",
       "      <th>60ma</th>\n",
       "      <th>120ma</th>\n",
       "      <th>240ma</th>\n",
       "    </tr>\n",
       "  </thead>\n",
       "  <tbody>\n",
       "    <tr>\n",
       "      <th>0</th>\n",
       "      <td>0</td>\n",
       "      <td>21.291999</td>\n",
       "      <td>21.369</td>\n",
       "      <td>21.6650</td>\n",
       "      <td>21.291999</td>\n",
       "      <td>21.369</td>\n",
       "      <td>21.6650</td>\n",
       "    </tr>\n",
       "    <tr>\n",
       "      <th>1</th>\n",
       "      <td>1</td>\n",
       "      <td>23.320000</td>\n",
       "      <td>23.386</td>\n",
       "      <td>23.5860</td>\n",
       "      <td>23.320000</td>\n",
       "      <td>23.386</td>\n",
       "      <td>23.5860</td>\n",
       "    </tr>\n",
       "    <tr>\n",
       "      <th>2</th>\n",
       "      <td>1</td>\n",
       "      <td>22.442000</td>\n",
       "      <td>22.106</td>\n",
       "      <td>22.4540</td>\n",
       "      <td>22.442000</td>\n",
       "      <td>22.106</td>\n",
       "      <td>22.4540</td>\n",
       "    </tr>\n",
       "    <tr>\n",
       "      <th>3</th>\n",
       "      <td>1</td>\n",
       "      <td>26.378000</td>\n",
       "      <td>25.148</td>\n",
       "      <td>24.0025</td>\n",
       "      <td>26.378000</td>\n",
       "      <td>25.148</td>\n",
       "      <td>24.0025</td>\n",
       "    </tr>\n",
       "    <tr>\n",
       "      <th>4</th>\n",
       "      <td>1</td>\n",
       "      <td>32.888000</td>\n",
       "      <td>32.902</td>\n",
       "      <td>31.2410</td>\n",
       "      <td>32.888000</td>\n",
       "      <td>32.902</td>\n",
       "      <td>31.2410</td>\n",
       "    </tr>\n",
       "  </tbody>\n",
       "</table>\n",
       "</div>"
      ],
      "text/plain": [
       "   label        5ma    10ma     20ma       60ma   120ma    240ma\n",
       "0      0  21.291999  21.369  21.6650  21.291999  21.369  21.6650\n",
       "1      1  23.320000  23.386  23.5860  23.320000  23.386  23.5860\n",
       "2      1  22.442000  22.106  22.4540  22.442000  22.106  22.4540\n",
       "3      1  26.378000  25.148  24.0025  26.378000  25.148  24.0025\n",
       "4      1  32.888000  32.902  31.2410  32.888000  32.902  31.2410"
      ]
     },
     "execution_count": 5,
     "metadata": {},
     "output_type": "execute_result"
    }
   ],
   "source": [
    "data2.head()"
   ]
  },
  {
   "cell_type": "code",
   "execution_count": 6,
   "metadata": {},
   "outputs": [
    {
     "data": {
      "text/plain": [
       "label    False\n",
       "5ma       True\n",
       "10ma      True\n",
       "20ma      True\n",
       "60ma      True\n",
       "120ma     True\n",
       "240ma     True\n",
       "dtype: bool"
      ]
     },
     "execution_count": 6,
     "metadata": {},
     "output_type": "execute_result"
    }
   ],
   "source": [
    "data2.isnull().any()"
   ]
  },
  {
   "cell_type": "code",
   "execution_count": 7,
   "metadata": {},
   "outputs": [
    {
     "data": {
      "text/plain": [
       "label    False\n",
       "5ma      False\n",
       "10ma     False\n",
       "20ma     False\n",
       "60ma     False\n",
       "120ma    False\n",
       "240ma    False\n",
       "dtype: bool"
      ]
     },
     "execution_count": 7,
     "metadata": {},
     "output_type": "execute_result"
    }
   ],
   "source": [
    "data2 = data2.dropna(axis = 0)\n",
    "data2.isnull().any()"
   ]
  },
  {
   "cell_type": "code",
   "execution_count": 8,
   "metadata": {},
   "outputs": [
    {
     "data": {
      "text/plain": [
       "0       0\n",
       "1       1\n",
       "2       1\n",
       "3       1\n",
       "4       1\n",
       "       ..\n",
       "5937    0\n",
       "5938    0\n",
       "5939    0\n",
       "5940    1\n",
       "5941    0\n",
       "Name: label, Length: 5930, dtype: int64"
      ]
     },
     "execution_count": 8,
     "metadata": {},
     "output_type": "execute_result"
    }
   ],
   "source": [
    "y = data2[\"label\"]\n",
    "y"
   ]
  },
  {
   "cell_type": "code",
   "execution_count": 9,
   "metadata": {},
   "outputs": [],
   "source": [
    "X = data2.iloc[:, 1:]"
   ]
  },
  {
   "cell_type": "code",
   "execution_count": 10,
   "metadata": {},
   "outputs": [
    {
     "data": {
      "text/html": [
       "<div>\n",
       "<style scoped>\n",
       "    .dataframe tbody tr th:only-of-type {\n",
       "        vertical-align: middle;\n",
       "    }\n",
       "\n",
       "    .dataframe tbody tr th {\n",
       "        vertical-align: top;\n",
       "    }\n",
       "\n",
       "    .dataframe thead th {\n",
       "        text-align: right;\n",
       "    }\n",
       "</style>\n",
       "<table border=\"1\" class=\"dataframe\">\n",
       "  <thead>\n",
       "    <tr style=\"text-align: right;\">\n",
       "      <th></th>\n",
       "      <th>5ma</th>\n",
       "      <th>10ma</th>\n",
       "      <th>20ma</th>\n",
       "      <th>60ma</th>\n",
       "      <th>120ma</th>\n",
       "      <th>240ma</th>\n",
       "    </tr>\n",
       "  </thead>\n",
       "  <tbody>\n",
       "    <tr>\n",
       "      <th>0</th>\n",
       "      <td>21.291999</td>\n",
       "      <td>21.369000</td>\n",
       "      <td>21.6650</td>\n",
       "      <td>21.291999</td>\n",
       "      <td>21.369000</td>\n",
       "      <td>21.6650</td>\n",
       "    </tr>\n",
       "    <tr>\n",
       "      <th>1</th>\n",
       "      <td>23.320000</td>\n",
       "      <td>23.386000</td>\n",
       "      <td>23.5860</td>\n",
       "      <td>23.320000</td>\n",
       "      <td>23.386000</td>\n",
       "      <td>23.5860</td>\n",
       "    </tr>\n",
       "    <tr>\n",
       "      <th>2</th>\n",
       "      <td>22.442000</td>\n",
       "      <td>22.106000</td>\n",
       "      <td>22.4540</td>\n",
       "      <td>22.442000</td>\n",
       "      <td>22.106000</td>\n",
       "      <td>22.4540</td>\n",
       "    </tr>\n",
       "    <tr>\n",
       "      <th>3</th>\n",
       "      <td>26.378000</td>\n",
       "      <td>25.148000</td>\n",
       "      <td>24.0025</td>\n",
       "      <td>26.378000</td>\n",
       "      <td>25.148000</td>\n",
       "      <td>24.0025</td>\n",
       "    </tr>\n",
       "    <tr>\n",
       "      <th>4</th>\n",
       "      <td>32.888000</td>\n",
       "      <td>32.902000</td>\n",
       "      <td>31.2410</td>\n",
       "      <td>32.888000</td>\n",
       "      <td>32.902000</td>\n",
       "      <td>31.2410</td>\n",
       "    </tr>\n",
       "    <tr>\n",
       "      <th>...</th>\n",
       "      <td>...</td>\n",
       "      <td>...</td>\n",
       "      <td>...</td>\n",
       "      <td>...</td>\n",
       "      <td>...</td>\n",
       "      <td>...</td>\n",
       "    </tr>\n",
       "    <tr>\n",
       "      <th>5937</th>\n",
       "      <td>48.784000</td>\n",
       "      <td>49.578000</td>\n",
       "      <td>49.4140</td>\n",
       "      <td>48.784000</td>\n",
       "      <td>49.578000</td>\n",
       "      <td>49.4140</td>\n",
       "    </tr>\n",
       "    <tr>\n",
       "      <th>5938</th>\n",
       "      <td>44.513999</td>\n",
       "      <td>44.176000</td>\n",
       "      <td>43.2510</td>\n",
       "      <td>44.513999</td>\n",
       "      <td>44.176000</td>\n",
       "      <td>43.2510</td>\n",
       "    </tr>\n",
       "    <tr>\n",
       "      <th>5939</th>\n",
       "      <td>42.416000</td>\n",
       "      <td>41.667999</td>\n",
       "      <td>41.5395</td>\n",
       "      <td>42.416000</td>\n",
       "      <td>41.667999</td>\n",
       "      <td>41.5395</td>\n",
       "    </tr>\n",
       "    <tr>\n",
       "      <th>5940</th>\n",
       "      <td>30.544000</td>\n",
       "      <td>32.756000</td>\n",
       "      <td>35.6795</td>\n",
       "      <td>30.544000</td>\n",
       "      <td>32.756000</td>\n",
       "      <td>35.6795</td>\n",
       "    </tr>\n",
       "    <tr>\n",
       "      <th>5941</th>\n",
       "      <td>32.432000</td>\n",
       "      <td>33.341000</td>\n",
       "      <td>33.4030</td>\n",
       "      <td>32.432000</td>\n",
       "      <td>33.341000</td>\n",
       "      <td>33.4030</td>\n",
       "    </tr>\n",
       "  </tbody>\n",
       "</table>\n",
       "<p>5930 rows × 6 columns</p>\n",
       "</div>"
      ],
      "text/plain": [
       "            5ma       10ma     20ma       60ma      120ma    240ma\n",
       "0     21.291999  21.369000  21.6650  21.291999  21.369000  21.6650\n",
       "1     23.320000  23.386000  23.5860  23.320000  23.386000  23.5860\n",
       "2     22.442000  22.106000  22.4540  22.442000  22.106000  22.4540\n",
       "3     26.378000  25.148000  24.0025  26.378000  25.148000  24.0025\n",
       "4     32.888000  32.902000  31.2410  32.888000  32.902000  31.2410\n",
       "...         ...        ...      ...        ...        ...      ...\n",
       "5937  48.784000  49.578000  49.4140  48.784000  49.578000  49.4140\n",
       "5938  44.513999  44.176000  43.2510  44.513999  44.176000  43.2510\n",
       "5939  42.416000  41.667999  41.5395  42.416000  41.667999  41.5395\n",
       "5940  30.544000  32.756000  35.6795  30.544000  32.756000  35.6795\n",
       "5941  32.432000  33.341000  33.4030  32.432000  33.341000  33.4030\n",
       "\n",
       "[5930 rows x 6 columns]"
      ]
     },
     "execution_count": 10,
     "metadata": {},
     "output_type": "execute_result"
    }
   ],
   "source": [
    "X"
   ]
  },
  {
   "cell_type": "code",
   "execution_count": 11,
   "metadata": {},
   "outputs": [],
   "source": [
    "X = X.dropna(axis = 0)"
   ]
  },
  {
   "cell_type": "code",
   "execution_count": 12,
   "metadata": {},
   "outputs": [
    {
     "data": {
      "text/plain": [
       "5ma      False\n",
       "10ma     False\n",
       "20ma     False\n",
       "60ma     False\n",
       "120ma    False\n",
       "240ma    False\n",
       "dtype: bool"
      ]
     },
     "execution_count": 12,
     "metadata": {},
     "output_type": "execute_result"
    }
   ],
   "source": [
    "X.isnull().any()"
   ]
  },
  {
   "cell_type": "code",
   "execution_count": 13,
   "metadata": {},
   "outputs": [
    {
     "data": {
      "text/plain": [
       "(5930, 6)"
      ]
     },
     "execution_count": 13,
     "metadata": {},
     "output_type": "execute_result"
    }
   ],
   "source": [
    "X.shape"
   ]
  },
  {
   "cell_type": "code",
   "execution_count": 14,
   "metadata": {},
   "outputs": [],
   "source": [
    "clf1 = LogisticRegression()\n",
    "clf2 = SVC()\n",
    "clf3 = RandomForestClassifier()\n",
    "clf4 = AdaBoostClassifier()\n",
    "clf5 = GradientBoostingClassifier()\n",
    "eclf = VotingClassifier(\n",
    "    estimators=[('lr', clf1), ('svc', clf2), \\\n",
    "               ('rf', clf3), ('ada', clf4), ('gb', clf5)],\n",
    "    voting='hard')"
   ]
  },
  {
   "cell_type": "code",
   "execution_count": 15,
   "metadata": {},
   "outputs": [
    {
     "data": {
      "text/plain": [
       "VotingClassifier(estimators=[('lr',\n",
       "                              LogisticRegression(C=1.0, class_weight=None,\n",
       "                                                 dual=False, fit_intercept=True,\n",
       "                                                 intercept_scaling=1,\n",
       "                                                 l1_ratio=None, max_iter=100,\n",
       "                                                 multi_class='auto',\n",
       "                                                 n_jobs=None, penalty='l2',\n",
       "                                                 random_state=None,\n",
       "                                                 solver='lbfgs', tol=0.0001,\n",
       "                                                 verbose=0, warm_start=False)),\n",
       "                             ('svc',\n",
       "                              SVC(C=1.0, break_ties=False, cache_size=200,\n",
       "                                  class_weight=None, coef0=0.0,\n",
       "                                  d...\n",
       "                                                         max_leaf_nodes=None,\n",
       "                                                         min_impurity_decrease=0.0,\n",
       "                                                         min_impurity_split=None,\n",
       "                                                         min_samples_leaf=1,\n",
       "                                                         min_samples_split=2,\n",
       "                                                         min_weight_fraction_leaf=0.0,\n",
       "                                                         n_estimators=100,\n",
       "                                                         n_iter_no_change=None,\n",
       "                                                         presort='deprecated',\n",
       "                                                         random_state=None,\n",
       "                                                         subsample=1.0,\n",
       "                                                         tol=0.0001,\n",
       "                                                         validation_fraction=0.1,\n",
       "                                                         verbose=0,\n",
       "                                                         warm_start=False))],\n",
       "                 flatten_transform=True, n_jobs=None, voting='hard',\n",
       "                 weights=None)"
      ]
     },
     "execution_count": 15,
     "metadata": {},
     "output_type": "execute_result"
    }
   ],
   "source": [
    "eclf.fit(X, y)"
   ]
  },
  {
   "cell_type": "code",
   "execution_count": 16,
   "metadata": {},
   "outputs": [
    {
     "data": {
      "text/plain": [
       "array([0, 0, 0, ..., 0, 1, 1])"
      ]
     },
     "execution_count": 16,
     "metadata": {},
     "output_type": "execute_result"
    }
   ],
   "source": [
    "eclf.predict(X)"
   ]
  },
  {
   "cell_type": "code",
   "execution_count": null,
   "metadata": {},
   "outputs": [],
   "source": []
  },
  {
   "cell_type": "code",
   "execution_count": 17,
   "metadata": {},
   "outputs": [],
   "source": [
    "testdata = pd.read_excel(\"sampleSubmission.xlsx\")"
   ]
  },
  {
   "cell_type": "code",
   "execution_count": 18,
   "metadata": {},
   "outputs": [
    {
     "data": {
      "text/plain": [
       "id       False\n",
       "label    False\n",
       "5ma      False\n",
       "10ma     False\n",
       "20ma     False\n",
       "60ma     False\n",
       "120ma    False\n",
       "240ma    False\n",
       "dtype: bool"
      ]
     },
     "execution_count": 18,
     "metadata": {},
     "output_type": "execute_result"
    }
   ],
   "source": [
    "testdata = testdata.fillna(0)\n",
    "testdata.isnull().any()"
   ]
  },
  {
   "cell_type": "code",
   "execution_count": 19,
   "metadata": {},
   "outputs": [
    {
     "data": {
      "text/html": [
       "<div>\n",
       "<style scoped>\n",
       "    .dataframe tbody tr th:only-of-type {\n",
       "        vertical-align: middle;\n",
       "    }\n",
       "\n",
       "    .dataframe tbody tr th {\n",
       "        vertical-align: top;\n",
       "    }\n",
       "\n",
       "    .dataframe thead th {\n",
       "        text-align: right;\n",
       "    }\n",
       "</style>\n",
       "<table border=\"1\" class=\"dataframe\">\n",
       "  <thead>\n",
       "    <tr style=\"text-align: right;\">\n",
       "      <th></th>\n",
       "      <th>5ma</th>\n",
       "      <th>10ma</th>\n",
       "      <th>20ma</th>\n",
       "      <th>60ma</th>\n",
       "      <th>120ma</th>\n",
       "      <th>240ma</th>\n",
       "    </tr>\n",
       "  </thead>\n",
       "  <tbody>\n",
       "    <tr>\n",
       "      <th>0</th>\n",
       "      <td>27.258000</td>\n",
       "      <td>27.573000</td>\n",
       "      <td>28.514500</td>\n",
       "      <td>27.258</td>\n",
       "      <td>27.573</td>\n",
       "      <td>28.5145</td>\n",
       "    </tr>\n",
       "    <tr>\n",
       "      <th>1</th>\n",
       "      <td>26.624000</td>\n",
       "      <td>26.698000</td>\n",
       "      <td>26.697500</td>\n",
       "      <td>26.624</td>\n",
       "      <td>26.698</td>\n",
       "      <td>26.6975</td>\n",
       "    </tr>\n",
       "    <tr>\n",
       "      <th>2</th>\n",
       "      <td>28.890000</td>\n",
       "      <td>28.863000</td>\n",
       "      <td>27.962500</td>\n",
       "      <td>28.890</td>\n",
       "      <td>28.863</td>\n",
       "      <td>27.9625</td>\n",
       "    </tr>\n",
       "    <tr>\n",
       "      <th>3</th>\n",
       "      <td>29.532000</td>\n",
       "      <td>30.037000</td>\n",
       "      <td>30.182000</td>\n",
       "      <td>29.532</td>\n",
       "      <td>30.037</td>\n",
       "      <td>30.1820</td>\n",
       "    </tr>\n",
       "    <tr>\n",
       "      <th>4</th>\n",
       "      <td>31.514000</td>\n",
       "      <td>32.125000</td>\n",
       "      <td>31.855000</td>\n",
       "      <td>31.514</td>\n",
       "      <td>32.125</td>\n",
       "      <td>31.8550</td>\n",
       "    </tr>\n",
       "    <tr>\n",
       "      <th>...</th>\n",
       "      <td>...</td>\n",
       "      <td>...</td>\n",
       "      <td>...</td>\n",
       "      <td>...</td>\n",
       "      <td>...</td>\n",
       "      <td>...</td>\n",
       "    </tr>\n",
       "    <tr>\n",
       "      <th>11358</th>\n",
       "      <td>86.210001</td>\n",
       "      <td>86.955000</td>\n",
       "      <td>85.049500</td>\n",
       "      <td>0.000</td>\n",
       "      <td>0.000</td>\n",
       "      <td>0.0000</td>\n",
       "    </tr>\n",
       "    <tr>\n",
       "      <th>11359</th>\n",
       "      <td>77.136000</td>\n",
       "      <td>80.214001</td>\n",
       "      <td>83.942000</td>\n",
       "      <td>0.000</td>\n",
       "      <td>0.000</td>\n",
       "      <td>0.0000</td>\n",
       "    </tr>\n",
       "    <tr>\n",
       "      <th>11360</th>\n",
       "      <td>70.966000</td>\n",
       "      <td>71.855001</td>\n",
       "      <td>73.499501</td>\n",
       "      <td>0.000</td>\n",
       "      <td>0.000</td>\n",
       "      <td>0.0000</td>\n",
       "    </tr>\n",
       "    <tr>\n",
       "      <th>11361</th>\n",
       "      <td>82.976001</td>\n",
       "      <td>79.619000</td>\n",
       "      <td>76.076001</td>\n",
       "      <td>0.000</td>\n",
       "      <td>0.000</td>\n",
       "      <td>0.0000</td>\n",
       "    </tr>\n",
       "    <tr>\n",
       "      <th>11362</th>\n",
       "      <td>81.462000</td>\n",
       "      <td>82.899000</td>\n",
       "      <td>84.209000</td>\n",
       "      <td>0.000</td>\n",
       "      <td>0.000</td>\n",
       "      <td>0.0000</td>\n",
       "    </tr>\n",
       "  </tbody>\n",
       "</table>\n",
       "<p>11363 rows × 6 columns</p>\n",
       "</div>"
      ],
      "text/plain": [
       "             5ma       10ma       20ma    60ma   120ma    240ma\n",
       "0      27.258000  27.573000  28.514500  27.258  27.573  28.5145\n",
       "1      26.624000  26.698000  26.697500  26.624  26.698  26.6975\n",
       "2      28.890000  28.863000  27.962500  28.890  28.863  27.9625\n",
       "3      29.532000  30.037000  30.182000  29.532  30.037  30.1820\n",
       "4      31.514000  32.125000  31.855000  31.514  32.125  31.8550\n",
       "...          ...        ...        ...     ...     ...      ...\n",
       "11358  86.210001  86.955000  85.049500   0.000   0.000   0.0000\n",
       "11359  77.136000  80.214001  83.942000   0.000   0.000   0.0000\n",
       "11360  70.966000  71.855001  73.499501   0.000   0.000   0.0000\n",
       "11361  82.976001  79.619000  76.076001   0.000   0.000   0.0000\n",
       "11362  81.462000  82.899000  84.209000   0.000   0.000   0.0000\n",
       "\n",
       "[11363 rows x 6 columns]"
      ]
     },
     "execution_count": 19,
     "metadata": {},
     "output_type": "execute_result"
    }
   ],
   "source": [
    "testdata.iloc[:, 2:]"
   ]
  },
  {
   "cell_type": "code",
   "execution_count": 20,
   "metadata": {},
   "outputs": [],
   "source": [
    "result = eclf.predict(testdata.iloc[:, 2:])"
   ]
  },
  {
   "cell_type": "code",
   "execution_count": 21,
   "metadata": {},
   "outputs": [],
   "source": [
    "pd.DataFrame(result).to_excel(\"prediction_voting.xlsx\", index=False)"
   ]
  },
  {
   "cell_type": "code",
   "execution_count": null,
   "metadata": {},
   "outputs": [],
   "source": []
  },
  {
   "cell_type": "code",
   "execution_count": null,
   "metadata": {},
   "outputs": [],
   "source": []
  }
 ],
 "metadata": {
  "kernelspec": {
   "display_name": "Python 3",
   "language": "python",
   "name": "python3"
  },
  "language_info": {
   "codemirror_mode": {
    "name": "ipython",
    "version": 3
   },
   "file_extension": ".py",
   "mimetype": "text/x-python",
   "name": "python",
   "nbconvert_exporter": "python",
   "pygments_lexer": "ipython3",
   "version": "3.7.6"
  }
 },
 "nbformat": 4,
 "nbformat_minor": 4
}
